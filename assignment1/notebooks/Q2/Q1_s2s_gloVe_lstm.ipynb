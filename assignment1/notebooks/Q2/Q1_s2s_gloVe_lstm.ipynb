{
 "cells": [
  {
   "cell_type": "code",
   "execution_count": 2,
   "metadata": {},
   "outputs": [],
   "source": [
    "import pandas as pd"
   ]
  },
  {
   "cell_type": "code",
   "execution_count": 3,
   "metadata": {},
   "outputs": [],
   "source": [
    "df_train = pd.read_csv(\"../../data/Text-To-SQL-COL775/train.csv\")\n",
    "df_val = pd.read_csv(\"../../data/Text-To-SQL-COL775/val.csv\")\n",
    "df_tables = pd.read_json(\"../../data/Text-To-SQL-COL775/tables.json\")"
   ]
  },
  {
   "cell_type": "code",
   "execution_count": 15,
   "metadata": {},
   "outputs": [
    {
     "data": {
      "text/html": [
       "<div>\n",
       "<style scoped>\n",
       "    .dataframe tbody tr th:only-of-type {\n",
       "        vertical-align: middle;\n",
       "    }\n",
       "\n",
       "    .dataframe tbody tr th {\n",
       "        vertical-align: top;\n",
       "    }\n",
       "\n",
       "    .dataframe thead th {\n",
       "        text-align: right;\n",
       "    }\n",
       "</style>\n",
       "<table border=\"1\" class=\"dataframe\">\n",
       "  <thead>\n",
       "    <tr style=\"text-align: right;\">\n",
       "      <th></th>\n",
       "      <th>db_id</th>\n",
       "      <th>query</th>\n",
       "      <th>question</th>\n",
       "    </tr>\n",
       "  </thead>\n",
       "  <tbody>\n",
       "    <tr>\n",
       "      <th>0</th>\n",
       "      <td>geo</td>\n",
       "      <td>SELECT MAX ( highest_elevation ) FROM highlow</td>\n",
       "      <td>what is the height of the highest point in the...</td>\n",
       "    </tr>\n",
       "  </tbody>\n",
       "</table>\n",
       "</div>"
      ],
      "text/plain": [
       "  db_id                                          query  \\\n",
       "0   geo  SELECT MAX ( highest_elevation ) FROM highlow   \n",
       "\n",
       "                                            question  \n",
       "0  what is the height of the highest point in the...  "
      ]
     },
     "execution_count": 15,
     "metadata": {},
     "output_type": "execute_result"
    }
   ],
   "source": [
    "df_train.head(1)"
   ]
  },
  {
   "cell_type": "code",
   "execution_count": 7,
   "metadata": {},
   "outputs": [
    {
     "data": {
      "text/plain": [
       "((7754, 3), (1939, 3), (166, 8))"
      ]
     },
     "execution_count": 7,
     "metadata": {},
     "output_type": "execute_result"
    }
   ],
   "source": [
    "df_train.shape, df_val.shape, df_tables.shape"
   ]
  },
  {
   "cell_type": "code",
   "execution_count": 21,
   "metadata": {},
   "outputs": [
    {
     "data": {
      "text/plain": [
       "166"
      ]
     },
     "execution_count": 21,
     "metadata": {},
     "output_type": "execute_result"
    }
   ],
   "source": [
    "df_tables[\"db_id\"].nunique()"
   ]
  },
  {
   "cell_type": "code",
   "execution_count": 33,
   "metadata": {},
   "outputs": [
    {
     "data": {
      "text/html": [
       "<div>\n",
       "<style scoped>\n",
       "    .dataframe tbody tr th:only-of-type {\n",
       "        vertical-align: middle;\n",
       "    }\n",
       "\n",
       "    .dataframe tbody tr th {\n",
       "        vertical-align: top;\n",
       "    }\n",
       "\n",
       "    .dataframe thead th {\n",
       "        text-align: right;\n",
       "    }\n",
       "</style>\n",
       "<table border=\"1\" class=\"dataframe\">\n",
       "  <thead>\n",
       "    <tr style=\"text-align: right;\">\n",
       "      <th></th>\n",
       "      <th>column_names</th>\n",
       "      <th>column_names_original</th>\n",
       "      <th>column_types</th>\n",
       "      <th>db_id</th>\n",
       "      <th>foreign_keys</th>\n",
       "      <th>primary_keys</th>\n",
       "      <th>table_names</th>\n",
       "      <th>table_names_original</th>\n",
       "    </tr>\n",
       "  </thead>\n",
       "  <tbody>\n",
       "    <tr>\n",
       "      <th>0</th>\n",
       "      <td>[[-1, *], [0, perpetrator id], [0, people id],...</td>\n",
       "      <td>[[-1, *], [0, Perpetrator_ID], [0, People_ID],...</td>\n",
       "      <td>[text, number, number, text, number, text, tex...</td>\n",
       "      <td>perpetrator</td>\n",
       "      <td>[[2, 9]]</td>\n",
       "      <td>[1, 9]</td>\n",
       "      <td>[perpetrator, people]</td>\n",
       "      <td>[perpetrator, people]</td>\n",
       "    </tr>\n",
       "    <tr>\n",
       "      <th>1</th>\n",
       "      <td>[[-1, *], [0, building], [0, room number], [0,...</td>\n",
       "      <td>[[-1, *], [0, building], [0, room_number], [0,...</td>\n",
       "      <td>[text, text, text, number, text, text, number,...</td>\n",
       "      <td>college_2</td>\n",
       "      <td>[[9, 4], [13, 4], [19, 1], [20, 2], [15, 7], [...</td>\n",
       "      <td>[1, 4, 7, 11, 15, 22, 27, 31, 37, 39, 45]</td>\n",
       "      <td>[classroom, department, course, instructor, se...</td>\n",
       "      <td>[classroom, department, course, instructor, se...</td>\n",
       "    </tr>\n",
       "    <tr>\n",
       "      <th>2</th>\n",
       "      <td>[[-1, *], [0, id], [0, city], [0, country], [0...</td>\n",
       "      <td>[[-1, *], [0, id], [0, City], [0, Country], [0...</td>\n",
       "      <td>[text, number, text, text, text, text, text, n...</td>\n",
       "      <td>flight_company</td>\n",
       "      <td>[[20, 7], [19, 1]]</td>\n",
       "      <td>[1, 7, 13]</td>\n",
       "      <td>[airport, operate company, flight]</td>\n",
       "      <td>[airport, operate_company, flight]</td>\n",
       "    </tr>\n",
       "    <tr>\n",
       "      <th>3</th>\n",
       "      <td>[[-1, *], [0, institution id], [0, name], [0, ...</td>\n",
       "      <td>[[-1, *], [0, instID], [0, name], [0, country]...</td>\n",
       "      <td>[text, number, text, text, number, text, text,...</td>\n",
       "      <td>icfp_1</td>\n",
       "      <td>[[11, 7], [10, 1], [9, 4]]</td>\n",
       "      <td>[1, 4, 7, 9]</td>\n",
       "      <td>[institution, authors, papers, authorship count]</td>\n",
       "      <td>[Inst, Authors, Papers, Authorship]</td>\n",
       "    </tr>\n",
       "    <tr>\n",
       "      <th>4</th>\n",
       "      <td>[[-1, *], [0, body builder id], [0, people id]...</td>\n",
       "      <td>[[-1, *], [0, Body_Builder_ID], [0, People_ID]...</td>\n",
       "      <td>[text, number, number, number, number, number,...</td>\n",
       "      <td>body_builder</td>\n",
       "      <td>[[2, 6]]</td>\n",
       "      <td>[1, 6]</td>\n",
       "      <td>[body builder, people]</td>\n",
       "      <td>[body_builder, people]</td>\n",
       "    </tr>\n",
       "  </tbody>\n",
       "</table>\n",
       "</div>"
      ],
      "text/plain": [
       "                                        column_names  \\\n",
       "0  [[-1, *], [0, perpetrator id], [0, people id],...   \n",
       "1  [[-1, *], [0, building], [0, room number], [0,...   \n",
       "2  [[-1, *], [0, id], [0, city], [0, country], [0...   \n",
       "3  [[-1, *], [0, institution id], [0, name], [0, ...   \n",
       "4  [[-1, *], [0, body builder id], [0, people id]...   \n",
       "\n",
       "                               column_names_original  \\\n",
       "0  [[-1, *], [0, Perpetrator_ID], [0, People_ID],...   \n",
       "1  [[-1, *], [0, building], [0, room_number], [0,...   \n",
       "2  [[-1, *], [0, id], [0, City], [0, Country], [0...   \n",
       "3  [[-1, *], [0, instID], [0, name], [0, country]...   \n",
       "4  [[-1, *], [0, Body_Builder_ID], [0, People_ID]...   \n",
       "\n",
       "                                        column_types           db_id  \\\n",
       "0  [text, number, number, text, number, text, tex...     perpetrator   \n",
       "1  [text, text, text, number, text, text, number,...       college_2   \n",
       "2  [text, number, text, text, text, text, text, n...  flight_company   \n",
       "3  [text, number, text, text, number, text, text,...          icfp_1   \n",
       "4  [text, number, number, number, number, number,...    body_builder   \n",
       "\n",
       "                                        foreign_keys  \\\n",
       "0                                           [[2, 9]]   \n",
       "1  [[9, 4], [13, 4], [19, 1], [20, 2], [15, 7], [...   \n",
       "2                                 [[20, 7], [19, 1]]   \n",
       "3                         [[11, 7], [10, 1], [9, 4]]   \n",
       "4                                           [[2, 6]]   \n",
       "\n",
       "                                primary_keys  \\\n",
       "0                                     [1, 9]   \n",
       "1  [1, 4, 7, 11, 15, 22, 27, 31, 37, 39, 45]   \n",
       "2                                 [1, 7, 13]   \n",
       "3                               [1, 4, 7, 9]   \n",
       "4                                     [1, 6]   \n",
       "\n",
       "                                         table_names  \\\n",
       "0                              [perpetrator, people]   \n",
       "1  [classroom, department, course, instructor, se...   \n",
       "2                 [airport, operate company, flight]   \n",
       "3   [institution, authors, papers, authorship count]   \n",
       "4                             [body builder, people]   \n",
       "\n",
       "                                table_names_original  \n",
       "0                              [perpetrator, people]  \n",
       "1  [classroom, department, course, instructor, se...  \n",
       "2                 [airport, operate_company, flight]  \n",
       "3                [Inst, Authors, Papers, Authorship]  \n",
       "4                             [body_builder, people]  "
      ]
     },
     "execution_count": 33,
     "metadata": {},
     "output_type": "execute_result"
    }
   ],
   "source": [
    "df_tables.head(5)"
   ]
  },
  {
   "cell_type": "code",
   "execution_count": null,
   "metadata": {},
   "outputs": [],
   "source": []
  }
 ],
 "metadata": {
  "kernelspec": {
   "display_name": "utk_col775",
   "language": "python",
   "name": "python3"
  },
  "language_info": {
   "codemirror_mode": {
    "name": "ipython",
    "version": 3
   },
   "file_extension": ".py",
   "mimetype": "text/x-python",
   "name": "python",
   "nbconvert_exporter": "python",
   "pygments_lexer": "ipython3",
   "version": "3.10.9"
  },
  "orig_nbformat": 4
 },
 "nbformat": 4,
 "nbformat_minor": 2
}
